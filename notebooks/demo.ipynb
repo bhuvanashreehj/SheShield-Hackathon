{
 "cells": [
  {
   "cell_type": "code",
   "execution_count": 1,
   "metadata": {},
   "outputs": [
    {
     "name": "stdout",
     "output_type": "stream",
     "text": [
      "VOICE ANALYSIS: 89% stress detected\n",
      "Action: Notifying counselor + trusted contacts\n"
     ]
    }
   ],
   "source": [
    "print(\"VOICE ANALYSIS: 89% stress detected\")\n",
    "print(\"Action: Notifying counselor + trusted contacts\")"
   ]
  }
 ],
 "metadata": {
  "kernelspec": {
   "display_name": "Python 3",
   "language": "python",
   "name": "python3"
  },
  "language_info": {
   "name": "python",
   "version": "3.8"
  }
 },
 "nbformat": 4,
 "nbformat_minor": 2
}